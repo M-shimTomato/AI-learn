{
  "nbformat": 4,
  "nbformat_minor": 0,
  "metadata": {
    "colab": {
      "provenance": [],
      "authorship_tag": "ABX9TyOnPa0k8lzcpMcR4Zh4zFS/",
      "include_colab_link": true
    },
    "kernelspec": {
      "name": "python3",
      "display_name": "Python 3"
    },
    "language_info": {
      "name": "python"
    }
  },
  "cells": [
    {
      "cell_type": "markdown",
      "metadata": {
        "id": "view-in-github",
        "colab_type": "text"
      },
      "source": [
        "<a href=\"https://colab.research.google.com/github/M-shimTomato/AI-learn/blob/main/GoogleColab%E3%81%AE%E4%BD%BF%E3%81%84%E6%96%B9%E5%85%A5%E9%96%80.ipynb\" target=\"_parent\"><img src=\"https://colab.research.google.com/assets/colab-badge.svg\" alt=\"Open In Colab\"/></a>"
      ]
    },
    {
      "cell_type": "markdown",
      "source": [
        "# GoogleColabの使い方入門\n",
        "本ノートブックは『超有能ツール！『GoogleColaboratory』を使ってみよう！』の付属ファイルです。\n",
        "\n",
        "ブログ本文は[こちら](https://mokashimu.com/ai/programming/howto-googlecolab/)"
      ],
      "metadata": {
        "id": "2IGMnK4chpZb"
      }
    },
    {
      "cell_type": "markdown",
      "source": [
        "## プログラムを実行してみる\n",
        "\n",
        "GoogleColabは主にPythonというプログラミング言語で動きます。\n",
        "\n",
        "早速、なにか文字列を出力するようなコードを書いてみましょう。"
      ],
      "metadata": {
        "id": "ca1-hfjrjxc0"
      }
    },
    {
      "cell_type": "code",
      "source": [
        "print('Hello!')"
      ],
      "metadata": {
        "colab": {
          "base_uri": "https://localhost:8080/"
        },
        "id": "UOy_B7-rkwlV",
        "outputId": "9b98a6d5-d717-41c2-9ca3-ef6c5c53f512"
      },
      "execution_count": 1,
      "outputs": [
        {
          "output_type": "stream",
          "name": "stdout",
          "text": [
            "Hello!\n"
          ]
        }
      ]
    }
  ]
}